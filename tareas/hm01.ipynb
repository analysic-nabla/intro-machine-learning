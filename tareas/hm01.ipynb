{
 "cells": [
  {
   "cell_type": "markdown",
   "metadata": {},
   "source": [
    "<img src=\"../files/misc/logo.gif\" width=300/>\n",
    "<h1 style=\"color:#872325\">Validación de Modelos</h1>\n",
    "\n",
    "Considerando la base de datos `california_housing` (cargada en la siguiente celda),\n",
    "\n",
    "1. parte la base de datos entre datos de entrenamiento (los primeros 2300 datos) y datos de prueba (el resto de la información)\n",
    "2. Realiza la misma partición para el vector objetivo `y`\n",
    "3. Considerando la primera columna de los datos de entrenamiento entrena modelos lineales con polinomios de grados 1, 2, ..., 23 sobre los datos de entrenamiento y evalúa el desempeño de cada uno de los modelos sobre los datos de entrenamiento y prueba. Importa la función `mean_squared_error` desde `sklearn.metrics` para lograr la valuación (Revisa la documentación si tienes dudas de como ocupar la función).\n",
    "4. Guarda cada desempeño desde la base de entrenamiento dentro de la lista `mse_train`; cada desempeño de la base de prueba dentro de `mse_test`.\n",
    "5. Con los desempeños guardados dentro de cada lista, corre el siguiente código que grafica el desempeño de cada uno de los modelos. ¿Cuál parece ajustar mejor los datos? Argumenta tu respuesta.\n",
    "\n",
    "```python\n",
    "import matplotlib.pyplot as plt\n",
    "fig, ax = plt.subplots(1, 1)\n",
    "ax2 = ax.twinx()\n",
    "ax.plot(mse_train, c=\"tab:blue\", label=\"train\")\n",
    "ax2.plot(mse_test, c=\"tab:orange\", label=\"test\")\n",
    "ax.set_ylabel(\"Train\", fontsize=13)\n",
    "ax2.set_ylabel(\"Test\", fontsize=13)\n",
    "ax.grid(alpha=0.5)\n",
    "```\n",
    "\n",
    "6. Repite los ejercicios 3-5: considera cada una de las columnas dentro de la matriz de datos de entrenamiento y entrena un modelo lineal con un polinomio de grado 1 cada una. Con tus nuevas dos listas `mse_train` y `mse_test`, evalua el siguiente código:\n",
    "\n",
    "```python\n",
    "import matplotlib.pyplot as plt\n",
    "columns = ['MedInc', 'HouseAge', 'AveRooms', 'AveBedrms', 'Population', 'AveOccup', 'Latitude', 'Longitude']\n",
    "fig, ax = plt.subplots(1, 1)\n",
    "ax2 = ax.twinx()\n",
    "ax.plot(mse_train, c=\"tab:blue\", label=\"train\")\n",
    "ax2.plot(mse_test, c=\"tab:orange\", label=\"test\")\n",
    "ax.set_ylabel(\"Train\", fontsize=13)\n",
    "ax2.set_ylabel(\"Test\", fontsize=13)\n",
    "ax.set_xticks(range(8))\n",
    "ax.set_xticklabels(columns, rotation=90)\n",
    "ax.grid()\n",
    "```\n",
    "\n",
    "¿Qué columna parece ajustar mejor los datos? Argumenta tu respuesta."
   ]
  },
  {
   "cell_type": "code",
   "execution_count": 1,
   "metadata": {},
   "outputs": [],
   "source": [
    "%config InlineBackend.figure_format = \"retina\""
   ]
  },
  {
   "cell_type": "code",
   "execution_count": 2,
   "metadata": {},
   "outputs": [
    {
     "name": "stdout",
     "output_type": "stream",
     "text": [
      ".. _california_housing_dataset:\n",
      "\n",
      "California Housing dataset\n",
      "--------------------------\n",
      "\n",
      "**Data Set Characteristics:**\n",
      "\n",
      "    :Number of Instances: 20640\n",
      "\n",
      "    :Number of Attributes: 8 numeric, predictive attributes and the target\n",
      "\n",
      "    :Attribute Information:\n",
      "        - MedInc        median income in block\n",
      "        - HouseAge      median house age in block\n",
      "        - AveRooms      average number of rooms\n",
      "        - AveBedrms     average number of bedrooms\n",
      "        - Population    block population\n",
      "        - AveOccup      average house occupancy\n",
      "        - Latitude      house block latitude\n",
      "        - Longitude     house block longitude\n",
      "\n",
      "    :Missing Attribute Values: None\n",
      "\n",
      "This dataset was obtained from the StatLib repository.\n",
      "http://lib.stat.cmu.edu/datasets/\n",
      "\n",
      "The target variable is the median house value for California districts.\n",
      "\n",
      "This dataset was derived from the 1990 U.S. census, using one row per census\n",
      "block group. A block group is the smallest geographical unit for which the U.S.\n",
      "Census Bureau publishes sample data (a block group typically has a population\n",
      "of 600 to 3,000 people).\n",
      "\n",
      "It can be downloaded/loaded using the\n",
      ":func:`sklearn.datasets.fetch_california_housing` function.\n",
      "\n",
      ".. topic:: References\n",
      "\n",
      "    - Pace, R. Kelley and Ronald Barry, Sparse Spatial Autoregressions,\n",
      "      Statistics and Probability Letters, 33 (1997) 291-297\n",
      "\n"
     ]
    }
   ],
   "source": [
    "from sklearn.datasets import fetch_california_housing\n",
    "data = fetch_california_housing()\n",
    "X = data[\"data\"]\n",
    "y = data[\"target\"]\n",
    "\n",
    "print(data[\"DESCR\"])"
   ]
  }
 ],
 "metadata": {
  "kernelspec": {
   "display_name": "Python 3",
   "language": "python",
   "name": "python3"
  },
  "language_info": {
   "codemirror_mode": {
    "name": "ipython",
    "version": 3
   },
   "file_extension": ".py",
   "mimetype": "text/x-python",
   "name": "python",
   "nbconvert_exporter": "python",
   "pygments_lexer": "ipython3",
   "version": "3.7.3"
  }
 },
 "nbformat": 4,
 "nbformat_minor": 2
}
