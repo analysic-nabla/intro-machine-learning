{
 "cells": [
  {
   "cell_type": "markdown",
   "metadata": {},
   "source": [
    "<img src=\"../files/misc/logo.gif\" width=300/>\n",
    "<h1 style=\"color:#872325\">Machine Learning Preliminaries</h1>"
   ]
  },
  {
   "cell_type": "code",
   "execution_count": 5,
   "metadata": {},
   "outputs": [],
   "source": [
    "import numpy as np\n",
    "import matplotlib.pyplot as plt\n",
    "import seaborn as sns"
   ]
  },
  {
   "cell_type": "code",
   "execution_count": 6,
   "metadata": {},
   "outputs": [],
   "source": [
    "%config InlineBackend.figure_format = \"retina\""
   ]
  },
  {
   "cell_type": "markdown",
   "metadata": {},
   "source": [
    "## Álgebra Lineal\n",
    "\n",
    "**¿Por qué álgebra lineal?**  \n",
    "Problemas en Machine Learning requiere el manejo de grandes bases de datos, la manipulación de la información dentro de las bases a fin de encontrar patrones por medio de modelos de ML depensen grandemente del álgebra lineal.\n",
    "\n",
    "Existen tres clases de elementos indispensables para poder trabajar en álgebra líneal. Estos son los escalares, vectores y matrices."
   ]
  },
  {
   "cell_type": "markdown",
   "metadata": {},
   "source": [
    "### Escalares\n",
    "Nos referimos a un escalar como un único número. Al trabajar con un escalar haremos referencia a la clase de elementos al cuál pertenece por medio de la notación\n",
    "\n",
    "$$\n",
    "    a \\in D\n",
    "$$\n",
    "\n",
    "Donde $a$ es el escalar y $D$ el conjunto al cuál pertenece"
   ]
  },
  {
   "cell_type": "markdown",
   "metadata": {},
   "source": [
    "En python, al declarar\n",
    "$$\n",
    " a \\in \\mathbb{R}\n",
    "$$\n",
    "\n",
    "Sería equivalente a tener una variable `a` de tipo `float`"
   ]
  },
  {
   "cell_type": "code",
   "execution_count": 7,
   "metadata": {},
   "outputs": [],
   "source": [
    "# Ejemplos de a ∈ R en Python\n",
    "a = 3.14\n",
    "a = 0.00\n",
    "a = 3e5"
   ]
  },
  {
   "cell_type": "markdown",
   "metadata": {},
   "source": [
    "### Vectores\n",
    "\n",
    "Un vector es un arreglo ordenado de elementos, todos de la misma clase de elementos. Denotaremos matemáticamente un vector $\\bf x$ en negrillas y la i-ésima entrada del vector por medio de $x_i$\n",
    "\n",
    "$$\n",
    "{\\bf x} = \\begin{bmatrix} \n",
    "x_1 \\\\\n",
    "x_2 \\\\\n",
    "\\vdots \\\\\n",
    "x_N\n",
    "\\end{bmatrix}\n",
    "$$\n",
    "\n",
    "Equivalente a un escalar, al declarar un vector denotaremos el conjunto al cual pertenece y los elementos dentro de este. Por ejemplo, si declaramoos el siguiente vector\n",
    "\n",
    "$$\n",
    "    {\\bf x} \\in \\mathbb{R}^5\n",
    "$$\n",
    "\n",
    "Estaríamos diciendo que $\\bf x$ tiene 5 elementos, cada uno de ellos números reales. En Python, esta representación estaría dada por un numpy array de 5 elementos, cada uno de ellos números flotantes"
   ]
  },
  {
   "cell_type": "code",
   "execution_count": 8,
   "metadata": {},
   "outputs": [
    {
     "data": {
      "text/plain": [
       "array([ 3.4,  1.4,  0.5, 10.4,  0. ])"
      ]
     },
     "execution_count": 8,
     "metadata": {},
     "output_type": "execute_result"
    }
   ],
   "source": [
    "x = np.array([3.4, 1.4, 0.5, 10.4, 0.0])\n",
    "x"
   ]
  },
  {
   "cell_type": "markdown",
   "metadata": {},
   "source": [
    "Geométricamente, podemos pensar un vector como una flecha que apunta desde el origen hasta una coordenada dada en un espacio $n$-dimensional"
   ]
  },
  {
   "cell_type": "code",
   "execution_count": 9,
   "metadata": {},
   "outputs": [
    {
     "data": {
      "image/png": "[encoded data removed]",
      "text/plain": [
       "<Figure size 432x288 with 1 Axes>"
      ]
     },
     "metadata": {
      "image/png": {
       "height": 268,
       "width": 380
      },
      "needs_background": "light"
     },
     "output_type": "display_data"
    }
   ],
   "source": [
    "x = np.array([1, 2])\n",
    "y = np.array([2.5, 0.5])\n",
    "\n",
    "plt.arrow(0, 0, *x, width=0.05, length_includes_head=True,\n",
    "          color=\"tab:blue\", )\n",
    "plt.arrow(0, 0, *y, width=0.05, length_includes_head=True,\n",
    "          color=\"tab:red\")\n",
    "plt.xlim(0, 3)\n",
    "plt.ylim(0, 3)\n",
    "plt.title(r\"Dos vectores en $\\mathbb{R}^2$\", fontsize=17)\n",
    "plt.grid()"
   ]
  },
  {
   "cell_type": "markdown",
   "metadata": {},
   "source": [
    "* En una base de datos, un vector estaría dado por una columna dentro de la base (una columna dentro de un Pandas DataFrame)\n",
    "* Una serie de tiempo sobre el precio de una acción estaría dada por un vector"
   ]
  },
  {
   "cell_type": "markdown",
   "metadata": {},
   "source": [
    "### Matrices\n",
    "\n",
    "Una matriz $\\bf X$ es un arreglo bi-dimensional de números (equivalente a un numpy array con `ndim == 2`). Denotaremos la $(i, j)$-ésima entrada de una matriz $\\bf X$ por medio de $X_{i,j}$.\n",
    "\n",
    "$$\n",
    "{\\bf X} = \\begin{bmatrix}\n",
    "x_{1,1} & x_{1,2} & \\ldots & x_{1,M} \\\\\n",
    "x_{1,1} & x_{1,2} & \\ldots & x_{2,M} \\\\\n",
    "\\vdots & \\vdots & \\vdots & \\vdots \\\\\n",
    "x_{N,1} & x_{N,2} & \\ldots & x_{N,M}\n",
    "\\end{bmatrix}\n",
    "$$\n",
    "\n",
    "A fin de hacer la notación más compacta, declararemos una matriz $\\bf A$ con $N$ filas y $M$ columnas como\n",
    "\n",
    "$$\n",
    "    {\\bf A} \\in \\mathbb{R}^{N\\times M}\n",
    "$$\n",
    "\n",
    "* De una manera geométrica, una matriz representa una _transformación lineal_ de un espacio en $\\mathbb{R}^n$. Un ejemplo visual de esto se puede encontrar [aquí](https://www.geogebra.org/m/YCZa8TAH).\n",
    "* Para fines de un modelo de machine learning, trabajaremos con matrices para representar bases de datos"
   ]
  },
  {
   "cell_type": "code",
   "execution_count": 10,
   "metadata": {},
   "outputs": [],
   "source": [
    "X = np.array([\n",
    "    [1.4, 0.5, 0.5],\n",
    "    [3.1, 1.9, 9.4],\n",
    "    [0.9, 1.1, 1.3]\n",
    "])\n"
   ]
  },
  {
   "cell_type": "code",
   "execution_count": 11,
   "metadata": {},
   "outputs": [
    {
     "data": {
      "text/plain": [
       "0.5"
      ]
     },
     "execution_count": 11,
     "metadata": {},
     "output_type": "execute_result"
    }
   ],
   "source": [
    "# Accedemos a la posición i,j de X\n",
    "i, j = 0, 2\n",
    "X[i, j]"
   ]
  },
  {
   "cell_type": "markdown",
   "metadata": {},
   "source": [
    "#### Notas:\n",
    "\n",
    "1. Una matriz ${\\bf A} \\in \\mathbb{R}^{n\\times n}$ es conocida como una matriz cuadrada\n",
    "2. Denotamos la matriz identidad $\\bf I\\in \\mathbb{R}^{n\\times n}$ como una matriz cuadrada tal que $I_{i,j} = \\mathbb{1}_{i=j}$\n",
    "3. Matemáticamente, expresamos un vector como un vector columna, es decir, ${\\bf a} \\in \\mathbb{R}^{n\\times 1}$."
   ]
  },
  {
   "cell_type": "markdown",
   "metadata": {},
   "source": [
    "### Propiedades de las martrices"
   ]
  },
  {
   "cell_type": "markdown",
   "metadata": {},
   "source": [
    "#### Transpuesta\n",
    "\n",
    "Denotamos la transpuesta de una matriz $\\bf X$ como ${\\bf X}^T$ y esta la definimos como\n",
    "$$\n",
    "    ({\\bf X}^T)_{i,j} = {\\bf X}_{j,i}\n",
    "$$"
   ]
  },
  {
   "cell_type": "code",
   "execution_count": 12,
   "metadata": {},
   "outputs": [
    {
     "data": {
      "text/plain": [
       "array([[1.4, 0.5, 0.5],\n",
       "       [3.1, 1.9, 9.4],\n",
       "       [0.9, 1.1, 1.3]])"
      ]
     },
     "execution_count": 12,
     "metadata": {},
     "output_type": "execute_result"
    }
   ],
   "source": [
    "X"
   ]
  },
  {
   "cell_type": "code",
   "execution_count": 13,
   "metadata": {},
   "outputs": [
    {
     "data": {
      "text/plain": [
       "array([[1.4, 3.1, 0.9],\n",
       "       [0.5, 1.9, 1.1],\n",
       "       [0.5, 9.4, 1.3]])"
      ]
     },
     "execution_count": 13,
     "metadata": {},
     "output_type": "execute_result"
    }
   ],
   "source": [
    "# En numpy accedemos a la transpuesta de una matriz por medio\n",
    "# del operador .T\n",
    "X.T"
   ]
  },
  {
   "cell_type": "code",
   "execution_count": 14,
   "metadata": {},
   "outputs": [
    {
     "data": {
      "text/plain": [
       "True"
      ]
     },
     "execution_count": 14,
     "metadata": {},
     "output_type": "execute_result"
    }
   ],
   "source": [
    "X.T[i,j] == X[j,i]"
   ]
  },
  {
   "cell_type": "markdown",
   "metadata": {},
   "source": [
    "#### Producto entrada a entrada (Hadamard)\n",
    "\n",
    "Denotaremos el producto entrada a entrada entre dos matrices ${\\bf A} \\in \\mathbb{R}^{N\\times M}$, ${\\bf B} \\in \\mathbb{R}^{N\\times M}$ como\n",
    "$$\n",
    "    {\\bf A} \\odot {\\bf B}\n",
    "$$\n",
    "\n",
    "Tal que $({\\bf A} \\odot {\\bf B})_{i,j} = A_{i,j} B_{i, j}$"
   ]
  },
  {
   "cell_type": "code",
   "execution_count": 15,
   "metadata": {},
   "outputs": [],
   "source": [
    "A = np.array([\n",
    "    [1, 3],\n",
    "    [4, 1]\n",
    "])\n",
    "\n",
    "B = np.array([\n",
    "    [0, 1],\n",
    "    [1, 2]\n",
    "])"
   ]
  },
  {
   "cell_type": "code",
   "execution_count": 16,
   "metadata": {},
   "outputs": [
    {
     "data": {
      "text/plain": [
       "array([[0, 3],\n",
       "       [4, 2]])"
      ]
     },
     "execution_count": 16,
     "metadata": {},
     "output_type": "execute_result"
    }
   ],
   "source": [
    "# En numpy, denotamos el producto entrada a entrada entre dos matrices\n",
    "# A, B por medio de * \n",
    "A * B"
   ]
  },
  {
   "cell_type": "markdown",
   "metadata": {},
   "source": [
    "#### Multiplicación de matrices y vectores\n",
    "\n",
    "Definimos el producto punto entre dos vectores $a, b \\in \\mathbb{R}^n$ como \n",
    "\n",
    "$$\n",
    "    {\\bf a}^T {\\bf b} = \\sum_{i=1}^n a_i b_i\n",
    "$$"
   ]
  },
  {
   "cell_type": "code",
   "execution_count": 17,
   "metadata": {},
   "outputs": [
    {
     "data": {
      "text/plain": [
       "14.1"
      ]
     },
     "execution_count": 17,
     "metadata": {},
     "output_type": "execute_result"
    }
   ],
   "source": [
    "# Podemos calcular el producto punto entre dos numpy arrays\n",
    "# a, b por medio de @\n",
    "a = np.array([1, 4, 0.5, 4])\n",
    "b = np.array([2, 0.9, 1, 2])\n",
    "\n",
    "a.T @ b # == (a * b).sum()"
   ]
  },
  {
   "cell_type": "markdown",
   "metadata": {},
   "source": [
    "Sean ${\\bf A} \\in \\mathbb{R}^{n\\times m}$, ${\\bf B} \\in \\mathbb{R}^{m\\times o}$, definimos la multiplicación entre $\\bf A$ y $\\bf B$ como una matriz $\\bf C$ tal que\n",
    "\n",
    "$$\n",
    "    C_{i,j} = \\sum_{k}A_{i,k}B_{k,j}\n",
    "$$\n",
    "\n",
    "**nota**: La definición de multiplicación de matrices está definida siempre y cuando $\\bf A$ tenga el mismo número de columnas como filas tenga $\\bf B$"
   ]
  },
  {
   "cell_type": "code",
   "execution_count": 18,
   "metadata": {},
   "outputs": [],
   "source": [
    "A = np.array([\n",
    "    [1, 3, 4],\n",
    "    [4, 5, 1],\n",
    "    [4, 1, 3],\n",
    "    [0, 0, 1],\n",
    "    \n",
    "])\n",
    "\n",
    "B = np.array([\n",
    "    [2.0, 1.0, 0.7],\n",
    "    [0.5, 0.5, 0.4],\n",
    "    [0.4, 1.1, 3.5],\n",
    "    [1.4, 5.6, 1.9],\n",
    "    \n",
    "]).T"
   ]
  },
  {
   "cell_type": "code",
   "execution_count": 19,
   "metadata": {},
   "outputs": [
    {
     "data": {
      "text/plain": [
       "array([[ 7.8,  3.6, 17.7, 25.8],\n",
       "       [13.7,  4.9, 10.6, 35.5],\n",
       "       [11.1,  3.7, 13.2, 16.9],\n",
       "       [ 0.7,  0.4,  3.5,  1.9]])"
      ]
     },
     "execution_count": 19,
     "metadata": {},
     "output_type": "execute_result"
    }
   ],
   "source": [
    "# En numpy, dadas dos matrices A y B, calculamos la multiplicación\n",
    "# matricial entre A y B por medio de @\n",
    "C = A @ B\n",
    "C"
   ]
  },
  {
   "cell_type": "code",
   "execution_count": 20,
   "metadata": {},
   "outputs": [
    {
     "data": {
      "text/plain": [
       "3.6"
      ]
     },
     "execution_count": 20,
     "metadata": {},
     "output_type": "execute_result"
    }
   ],
   "source": [
    "i, j = 0, 1\n",
    "C[i, j] # == (A[i, :] * B[:, j]).sum()"
   ]
  },
  {
   "cell_type": "markdown",
   "metadata": {},
   "source": [
    "#### Matrices Inversas\n",
    "\n",
    "Denotamos la inversa de una matriz ${\\bf A} \\in \\mathbb{R}^{n\\times n}$ como ${\\bf A}^{-1}$ y es definida de tal manera que\n",
    "\n",
    "$$\n",
    "    {\\bf A}^{-1}{\\bf A} = {\\bf I}\n",
    "$$"
   ]
  },
  {
   "cell_type": "code",
   "execution_count": 21,
   "metadata": {},
   "outputs": [
    {
     "data": {
      "text/plain": [
       "array([[1, 0],\n",
       "       [0, 1]])"
      ]
     },
     "execution_count": 21,
     "metadata": {},
     "output_type": "execute_result"
    }
   ],
   "source": [
    "A = np.array([\n",
    "    [4, 3],\n",
    "    [3, 2],\n",
    "])\n",
    "\n",
    "Ai = np.array([\n",
    "    [-2,  3],\n",
    "    [ 3, -4]\n",
    "])\n",
    "\n",
    "A @ Ai"
   ]
  },
  {
   "cell_type": "markdown",
   "metadata": {},
   "source": [
    "En numpy podemos calcular la inversa de una matriz por medio de la función `inv` dentro de `numpy.linalg`"
   ]
  },
  {
   "cell_type": "code",
   "execution_count": 22,
   "metadata": {},
   "outputs": [
    {
     "data": {
      "text/plain": [
       "array([[-2.,  3.],\n",
       "       [ 3., -4.]])"
      ]
     },
     "execution_count": 22,
     "metadata": {},
     "output_type": "execute_result"
    }
   ],
   "source": [
    "from numpy.linalg import inv\n",
    "inv(A)"
   ]
  },
  {
   "cell_type": "markdown",
   "metadata": {},
   "source": [
    "#### Sistemas de ecuaciones\n",
    "\n",
    "Una de las aplicaciones de una matriz inversa es la resolución de un sistema lineal de ecuaciones: Sea ${\\bf A} \\in \\mathbb{R}^{n\\times n}$, ${\\bf x} \\in \\mathbb{R}^{n}$ y ${\\bf b} \\in \\mathbb{R}^{n}$ donde ${\\bf A}$ y ${\\bf b}$ son una matriz y un vector conocido respectivamente. Queremos encontrar ${\\bf x}$ tal que satisfaga\n",
    "\n",
    "$$\n",
    "\\begin{align}\n",
    "    &{\\bf A}{\\bf x} = {\\bf b} \\\\\n",
    "    \\implies &  {\\bf A}^{-1}{\\bf A}{\\bf x} = {\\bf A}^{-1}{\\bf b} \\\\\n",
    "    \\implies &  {\\bf x} = {\\bf A}^{-1}{\\bf b} \\\\\n",
    "\\end{align}\n",
    "$$"
   ]
  },
  {
   "cell_type": "code",
   "execution_count": 23,
   "metadata": {},
   "outputs": [],
   "source": [
    "A = np.array([\n",
    "    [1, 4],\n",
    "    [3, 4]\n",
    "])\n",
    "\n",
    "b = np.array([1, -1]).reshape(-1, 1)"
   ]
  },
  {
   "cell_type": "code",
   "execution_count": 24,
   "metadata": {},
   "outputs": [
    {
     "data": {
      "text/plain": [
       "array([[-1. ],\n",
       "       [ 0.5]])"
      ]
     },
     "execution_count": 24,
     "metadata": {},
     "output_type": "execute_result"
    }
   ],
   "source": [
    "# Forma explicita de resolver el sistema\n",
    "inv(A) @ b"
   ]
  },
  {
   "cell_type": "code",
   "execution_count": 25,
   "metadata": {},
   "outputs": [
    {
     "data": {
      "text/plain": [
       "array([[-1. ],\n",
       "       [ 0.5]])"
      ]
     },
     "execution_count": 25,
     "metadata": {},
     "output_type": "execute_result"
    }
   ],
   "source": [
    "from numpy.linalg import solve\n",
    "# La función solve dentro de numpy.linalg contiene un\n",
    "# algoritmo más eficiente y preciso para resolver un sistema\n",
    "# de ecuaciones\n",
    "solve(A, b)"
   ]
  },
  {
   "cell_type": "markdown",
   "metadata": {},
   "source": [
    "#### Determinante\n",
    "\n",
    "La determinante de una matriz ${\\bf A} \\in \\mathbb{R}^{n\\times n}$ es un valor escalar que describe ciertas propiedades de la transformación lineal describida por la matriz. Denotamos la determinante de una matriz ${\\bf A}$ por\n",
    "\n",
    "\n",
    "$$\n",
    "    |{\\bf A}|\n",
    "$$"
   ]
  },
  {
   "cell_type": "code",
   "execution_count": 26,
   "metadata": {},
   "outputs": [],
   "source": [
    "A = np.array([\n",
    "    [1, 4],\n",
    "    [3, 4]\n",
    "])"
   ]
  },
  {
   "cell_type": "code",
   "execution_count": 27,
   "metadata": {},
   "outputs": [
    {
     "data": {
      "text/plain": [
       "-8.000000000000002"
      ]
     },
     "execution_count": 27,
     "metadata": {},
     "output_type": "execute_result"
    }
   ],
   "source": [
    "np.linalg.det(A)"
   ]
  },
  {
   "cell_type": "markdown",
   "metadata": {},
   "source": [
    "### Propiedades Adicionales de Matrices\n",
    "\n",
    "$$\n",
    "    {\\bf A}({\\bf B} + {\\bf C}) = {\\bf A}{\\bf B} + {\\bf A}{\\bf C}\n",
    "$$\n",
    "\n",
    "$$\n",
    "    ({\\bf A}{\\bf B}){\\bf C} =  {\\bf A}({\\bf B}{\\bf C})\n",
    "$$\n",
    "\n",
    "$$\n",
    "    ({\\bf A}{\\bf B})^T = {\\bf B}^T{\\bf A}^T\n",
    "$$\n",
    "\n",
    "$$\n",
    "    ({\\bf A}{\\bf B})^{-1} = {\\bf B}^{-1}{\\bf A}^{-1}\n",
    "$$"
   ]
  },
  {
   "cell_type": "markdown",
   "metadata": {},
   "source": [
    "**Referncias Adicionales**\n",
    "\n",
    "* [The Matrix Cookbook](https://www.math.uwaterloo.ca/~hwolkowi/matrixcookbook.pdf)\n",
    "* [Portfolio Theory with Matrix Algebra](https://faculty.washington.edu/ezivot/econ424/portfolioTheoryMatrix.pdf)\n",
    "* [Deep Learning Chapter 2: Linear Algebra (The Deep Learning Book)](https://www.deeplearningbook.org/contents/linear_algebra.html)"
   ]
  },
  {
   "cell_type": "markdown",
   "metadata": {},
   "source": [
    "## Estadística y Probabilidad\n",
    "\n",
    "La finalidad de modelos de machine learning es extraer patrones desde datos. Para encontrar patrones uno tiene que lidiar con la **incertidumbre**.\n",
    "\n",
    "La teoria de la probabilidad nos provee de herramientas para trabajar y manipular la incertidumbre; su estudio es escencial para estadística, modelos de machine learning y reconocimiento de patrones."
   ]
  },
  {
   "cell_type": "code",
   "execution_count": 28,
   "metadata": {},
   "outputs": [],
   "source": [
    "from numpy.random import seed, choice"
   ]
  },
  {
   "cell_type": "markdown",
   "metadata": {},
   "source": [
    "### Variables Aleatorias\n",
    "\n",
    "Para lograr poder medir la incertidumbre de un evento consideraremos una variable (aleatoria) $X$ la cuál representa todos los estados en que podría terminar un sistema,\n",
    "\n",
    "* Si $X$ toma un número contable (finito o infinito) de elementos, decimos que $X$ es una variable aleatoria discreta.\n",
    "* Si $X$ toma un número no contable de elementos, decimos que $X$ es una variable aleatoria continua."
   ]
  },
  {
   "cell_type": "code",
   "execution_count": 29,
   "metadata": {},
   "outputs": [],
   "source": [
    "from numpy.random import normal"
   ]
  },
  {
   "cell_type": "code",
   "execution_count": 30,
   "metadata": {},
   "outputs": [],
   "source": [
    "X = normal # Una variable aleatoria"
   ]
  },
  {
   "cell_type": "code",
   "execution_count": 31,
   "metadata": {},
   "outputs": [
    {
     "data": {
      "text/plain": [
       "-0.3269490442782659"
      ]
     },
     "execution_count": 31,
     "metadata": {},
     "output_type": "execute_result"
    }
   ],
   "source": [
    "# X nos arroja un elemento una vez valuado. Cada evaluación podría\n",
    "# ser diferente de una anterior\n",
    "X()"
   ]
  },
  {
   "cell_type": "code",
   "execution_count": 32,
   "metadata": {},
   "outputs": [
    {
     "data": {
      "text/plain": [
       "-1.350312938610961"
      ]
     },
     "execution_count": 32,
     "metadata": {},
     "output_type": "execute_result"
    }
   ],
   "source": [
    "X()"
   ]
  },
  {
   "cell_type": "markdown",
   "metadata": {},
   "source": [
    "----\n",
    "\n",
    "#### Variables Aleatorias Discretas\n",
    "\n",
    "A una variable aleatoria $X$ se le asocia una **función de distribución** la cuál denotamos por $p$. Entonces, denotamos por $P(X = x)$ la probabilida de que $X$ tome un valor $x$.\n",
    "\n",
    "Para una función de probabillidad definida sobre una variable aleatoria discreta $X$ requerimos \n",
    "* $ \\forall x\\in X. P(X = x) \\in [0, 1]$\n",
    "* $\\sum_{x\\in X} P(X = x) = 1$\n",
    "\n",
    "La función $p$ puede ser usada para calcular la probabilidad de 1 o más elementos. Denotamos por $P(X=x, Y=y)$ como la probabilidad que la variable aleatoria $X$ tome un valor $x$ y que $Y$ tome un valror $y$.\n",
    "\n",
    "**Probabilidad de la unión de dos eventos**  \n",
    "Sean $A$ y $B$ dos eventos entonces,\n",
    "\n",
    "$$\n",
    "    P(A \\cup B) = P(A) + P(B) - P(A \\cap B)\n",
    "$$\n",
    "\n",
    "\n",
    "**Independencia**  \n",
    "Sean $A$ y $B$ dos eventos. Decimos que $A$ es independiente de $B$ si y solo si\n",
    "\n",
    "$$\n",
    "    P(A, B) = P(A) P(B)\n",
    "$$\n",
    "\n",
    "**Probabilidad condicional**  \n",
    "Definimos la probabilidad condicional de un evento $A$ dado $B$ por\n",
    "\n",
    "$$\n",
    "    P(A|B) = \\frac{P(A,B)}{P(B)}\n",
    "$$\n",
    "\n",
    "**Regla de probabilidad**  \n",
    "Dada la definición de probabilidad condicional mencionada anteriormente, podemos reescribir la probabilidad conjunta de dos eventos $A$ y $B$ como\n",
    "\n",
    "$$\n",
    "    P(A, B) = P(A)P(B | A)\n",
    "$$\n",
    "\n",
    "\n",
    "**Distribuciones Marginales / Regla de la probabilidad total**  \n",
    "Dada la distribución de probabilidad conjunta de cualesquiera dos eventos $A$ y $B$, denotamos la distribución marginal de $A$ como\n",
    "\n",
    "$$\n",
    "    P(A) = \\sum_{b} P(A, B=b) = \\sum_{b} P(B=b)P(A|B=b)\n",
    "$$\n",
    "\n",
    "**Regla de la cadena**  \n",
    "Dado un conjunto de eventos $\\{X_n\\}_{n=1}^N$, podemos hacer uso de la regla de probabilidad para calcular la probabilidad conjunta de eventos como\n",
    "\n",
    "$P(X_1, X_2, \\ldots, X_N) = P(X_1)P(X_2 | X_1)P(X_3 | X_2, X_1)\\ldots P(X_N | X_1, X_2, \\ldots, X_N) $\n",
    "\n",
    "**Teorema de Bayes**  \n",
    "Considerando la regla de la cadena y la distribución marginal llegamos al teorema de Bayes:\n",
    "\n",
    "\n",
    "$$\n",
    "    P(X=x | Y=y) = \\frac{P(X=x, Y=y)}{P(Y=y)} = \\frac{P(X=x) P(X=x| Y=y)}{\\sum_xP(X=x) P(X=x| Y=y)}\n",
    "$$\n",
    "\n",
    "#### Variables Aleatorias Continuas\n",
    "Si una variable aletoria $X$ puede tomar cualquier valor dentro de un rango $(a, b)$, la probabilidad que $X$ tome un valor dentro del intervalo $a \\leq X \\leq b$ se puede calcular de la siguiente manera:\n",
    "\n",
    "Consideremos los eventos $A = (X\\leq a)$, $B = (X\\leq b)$, $W = (a\\leq X\\leq b)$. Entonces $B = A \\cup W$. Por las reglas de probabilidad,\n",
    "\n",
    "$$\n",
    "\\begin{align}\n",
    "    P(B) &= P(A \\cup W) \\\\\n",
    "         &= P(A) + P(W) - P(A \\cap W) \\\\\n",
    "         &= P(A) + P(W)\\\\\n",
    "\\end{align}\n",
    "$$\n",
    "\n",
    "Por lo tanto,\n",
    "\n",
    "$$\n",
    "\\begin{align}\n",
    "P(W) &= P(a \\leq X \\leq B) \\\\\n",
    "&= P(B) - P(A)\\\\\n",
    "&= P(X \\leq b) - P(X \\leq a)\n",
    "\\end{align}\n",
    "$$\n",
    "\n",
    "\n",
    "Definimos la función de distribución para una variable aleatoria continua $X$ como\n",
    "\n",
    "$$\n",
    "    F(x) := P(X \\leq x)\n",
    "$$\n",
    "\n",
    "$F(x)$ cumple que:\n",
    "\n",
    "1. Es monótona creciente\n",
    "2. $\\lim_{x\\to \\infty} F(x) = 1$\n",
    "3. $\\lim_{x\\to -\\infty} F(x) = 0$\n",
    "\n",
    "Si $f(x) = \\frac{d}{dx}F(x)$ existe, la función $f(x)$ es llamada la **función de densidad** de la variable aletoria $X$."
   ]
  },
  {
   "cell_type": "code",
   "execution_count": 33,
   "metadata": {},
   "outputs": [
    {
     "data": {
      "text/plain": [
       "array(['b', 'c', 'c', 'a', 'c', 'a', 'b', 'b', 'c', 'a'], dtype='<U1')"
      ]
     },
     "execution_count": 33,
     "metadata": {},
     "output_type": "execute_result"
    }
   ],
   "source": [
    "# Valores de la distribución\n",
    "X = [\"a\", \"b\", \"c\", \"d\"] \n",
    "# Probabilidad de observar una observación\n",
    "probs = [0.25, 0.25, 0.4, 0.1]\n",
    "# Muestra de 10 elementos de X\n",
    "choice(X, size=10, p=probs)"
   ]
  },
  {
   "cell_type": "code",
   "execution_count": 34,
   "metadata": {},
   "outputs": [
    {
     "data": {
      "image/png": "[encoded data removed]",
      "text/plain": [
       "<Figure size 432x288 with 1 Axes>"
      ]
     },
     "metadata": {
      "image/png": {
       "height": 248,
       "width": 392
      },
      "needs_background": "light"
     },
     "output_type": "display_data"
    }
   ],
   "source": [
    "seed(314)\n",
    "obs = choice(X, size=50, p=probs)\n",
    "sns.countplot(obs, order=X, color=\"tab:red\")\n",
    "plt.grid(alpha=0.6)"
   ]
  },
  {
   "cell_type": "markdown",
   "metadata": {},
   "source": [
    "## Distribuciones\n",
    "\n",
    "A fin de poder describir nuestros datos en términos probabilisticos es necesario asignarle una distribución de probabilidad. Bajo un efoque paramétrico, podríamos asumir que nuestros datos se comportan respecto a una distribución de probabilidad previamente definida. En la siguiente sección presentamos algunas distribuciones de probabilidad para variables aleatorias continuas y discretas."
   ]
  },
  {
   "cell_type": "code",
   "execution_count": 35,
   "metadata": {},
   "outputs": [],
   "source": [
    "from ipywidgets import IntSlider, FloatSlider, interact"
   ]
  },
  {
   "cell_type": "markdown",
   "metadata": {},
   "source": [
    "### Bernoulli\n",
    "\n",
    "$$\n",
    "    \\text{Bern}(x|p) = p^x(1-p)^{1-x}\n",
    "$$"
   ]
  },
  {
   "cell_type": "code",
   "execution_count": 36,
   "metadata": {},
   "outputs": [],
   "source": [
    "from scipy.stats import bernoulli"
   ]
  },
  {
   "cell_type": "code",
   "execution_count": 37,
   "metadata": {},
   "outputs": [
    {
     "data": {
      "application/vnd.jupyter.widget-view+json": {
       "model_id": "2cf0fb47cf0c4ad6b801a1f49a9320ec",
       "version_major": 2,
       "version_minor": 0
      },
      "text/plain": [
       "interactive(children=(FloatSlider(value=0.5, description='p', max=1.0), Output()), _dom_classes=('widget-inter…"
      ]
     },
     "metadata": {},
     "output_type": "display_data"
    }
   ],
   "source": [
    "@interact(p=FloatSlider(min=0, max=1, step=0.1, value=0.5))\n",
    "def bern_plot(p):\n",
    "    X = [0, 1]\n",
    "    bern = bernoulli(p)\n",
    "    ps = bern.pmf(X)\n",
    "    plt.bar(X, ps, color=\"#872325\")\n",
    "    plt.ylim(0, 1)"
   ]
  },
  {
   "cell_type": "markdown",
   "metadata": {},
   "source": [
    "### Binomial\n",
    "\n",
    "$$\n",
    "    \\text{Bin}(k|n, p) =  {n \\choose k} p^n(1-p)^{n-k}\n",
    "$$"
   ]
  },
  {
   "cell_type": "code",
   "execution_count": 38,
   "metadata": {},
   "outputs": [],
   "source": [
    "from scipy.stats import binom"
   ]
  },
  {
   "cell_type": "code",
   "execution_count": 39,
   "metadata": {},
   "outputs": [
    {
     "data": {
      "application/vnd.jupyter.widget-view+json": {
       "model_id": "88a1294cffcc40a6bf763c9fe17c6c05",
       "version_major": 2,
       "version_minor": 0
      },
      "text/plain": [
       "interactive(children=(FloatSlider(value=0.5, description='p', max=1.0), Output()), _dom_classes=('widget-inter…"
      ]
     },
     "metadata": {},
     "output_type": "display_data"
    }
   ],
   "source": [
    "@interact(p=FloatSlider(min=0, max=1, step=0.1, value=0.5))\n",
    "def bin_plot(p):\n",
    "    n = 11\n",
    "    X = np.arange(11)\n",
    "    ps = binom.pmf(X, n, p)\n",
    "    plt.bar(X, ps, color=\"#872325\")\n",
    "    plt.ylim(0, 0.3)"
   ]
  },
  {
   "cell_type": "markdown",
   "metadata": {},
   "source": [
    "### Multinomial\n",
    "\n",
    "$$\n",
    "    \\text{Mult}({\\bf x}|M, {\\boldsymbol \\mu}) = {M \\choose x_1 \\ldots x_K} \\prod_{k=1}^K \\mu_k^{x_k}\n",
    "$$"
   ]
  },
  {
   "cell_type": "code",
   "execution_count": 40,
   "metadata": {},
   "outputs": [],
   "source": [
    "from scipy.stats import multinomial"
   ]
  },
  {
   "cell_type": "code",
   "execution_count": 41,
   "metadata": {},
   "outputs": [
    {
     "data": {
      "application/vnd.jupyter.widget-view+json": {
       "model_id": "67bb03c3c6704e99972279d0db12ece4",
       "version_major": 2,
       "version_minor": 0
      },
      "text/plain": [
       "interactive(children=(FloatSlider(value=0.5, description='p', max=1.0), IntSlider(value=6, description='n', ma…"
      ]
     },
     "metadata": {},
     "output_type": "display_data"
    }
   ],
   "source": [
    "@interact(p=FloatSlider(min=0, max=1, step=0.1, value=0.5),\n",
    "          n=IntSlider(min=1, max=12, step=1, value=6))\n",
    "def multinomial_plot(p, n):\n",
    "    mult = multinomial(n, [p, 1 - p])\n",
    "    X = np.mgrid[:7, :7].reshape(2, -1).T\n",
    "    zz = mult.pmf(X).reshape(7, 7)\n",
    "    sns.heatmap(zz, linewidths=0.1, cmap=\"inferno\")\n",
    "    plt.xlabel(\"$X_1$\", fontsize=15)\n",
    "    plt.ylabel(\"$X_2$\", fontsize=15)"
   ]
  },
  {
   "cell_type": "markdown",
   "metadata": {},
   "source": [
    "### Distribución Gaussiana (Normal)\n",
    "\n",
    "$$\n",
    "    \\mathcal{N}(x|\\mu, \\sigma^2) = \\frac{1}{\\sqrt{2\\pi\\sigma^2}}\\exp\\left(-\\frac{1}{2\\sigma^2}(x - \\mu)^2\\right)\n",
    "$$"
   ]
  },
  {
   "cell_type": "code",
   "execution_count": 42,
   "metadata": {},
   "outputs": [],
   "source": [
    "from scipy.stats import norm"
   ]
  },
  {
   "cell_type": "code",
   "execution_count": 43,
   "metadata": {},
   "outputs": [
    {
     "data": {
      "application/vnd.jupyter.widget-view+json": {
       "model_id": "d3077a98f9cf402ea4f1d7b846580281",
       "version_major": 2,
       "version_minor": 0
      },
      "text/plain": [
       "interactive(children=(FloatSlider(value=0.0, description='mu', max=1.0, min=-1.0), FloatSlider(value=1.0, desc…"
      ]
     },
     "metadata": {},
     "output_type": "display_data"
    }
   ],
   "source": [
    "@interact(mu=FloatSlider(min=-1, max=1, step=0.1, value=0),\n",
    "          sigma=FloatSlider(min=0.1, max=1, step=0.1, value=1))\n",
    "def gaussian_plot(mu, sigma):\n",
    "    X = np.linspace(-3, 3, 100)\n",
    "    N = norm(loc=mu, scale=sigma)\n",
    "    ps = N.pdf(X)\n",
    "    plt.plot(X, ps, color=\"#872325\")\n",
    "    plt.ylim(0, 0.8)"
   ]
  },
  {
   "cell_type": "markdown",
   "metadata": {},
   "source": [
    "### Distribución Gaussiana Multivariada\n",
    "\n",
    "$$\n",
    "    \\mathcal{N}({\\bf x}|{\\boldsymbol \\mu}, {\\boldsymbol \\Sigma}) = \\frac{1}{(2\\pi)^{M/2}|{\\boldsymbol \\Sigma}|^{1/2}} \\exp\\left(-\\frac{1}{2}({\\bf x} - {\\boldsymbol \\mu})^T{\\boldsymbol \\Sigma}^{-1}({\\bf x} - {\\boldsymbol \\mu})\\right)\n",
    "$$"
   ]
  },
  {
   "cell_type": "code",
   "execution_count": 44,
   "metadata": {},
   "outputs": [],
   "source": [
    "from scipy.stats import multivariate_normal\n",
    "from numpy.linalg.linalg import LinAlgError"
   ]
  },
  {
   "cell_type": "code",
   "execution_count": 45,
   "metadata": {},
   "outputs": [
    {
     "data": {
      "application/vnd.jupyter.widget-view+json": {
       "model_id": "6d0e7f11831441dcafe9ab2a0cec878d",
       "version_major": 2,
       "version_minor": 0
      },
      "text/plain": [
       "interactive(children=(FloatSlider(value=0.0, description='mux', max=1.0, min=-1.0), FloatSlider(value=0.0, des…"
      ]
     },
     "metadata": {},
     "output_type": "display_data"
    }
   ],
   "source": [
    "@interact(mux=FloatSlider(min=-1, max=1, step=0.1, value=0),\n",
    "          muy=FloatSlider(min=-1, max=1, step=0.1, value=0),\n",
    "          sxx=FloatSlider(min=0.1, max=1, step=0.1, value=0.5),\n",
    "          syy=FloatSlider(min=0.1, max=1, step=0.1, value=0.5),\n",
    "          sxy=FloatSlider(min=-1, max=1, step=0.1, value=0))\n",
    "def multivariate_gaussian_plot(mux, muy, sxx, syy, sxy):\n",
    "    Sigma = np.array([\n",
    "        [sxx, sxy],\n",
    "        [sxy, syy]\n",
    "    ])\n",
    "    mu = np.array([mux, muy])\n",
    "    try:\n",
    "        mnorm = multivariate_normal(mu, Sigma)\n",
    "    except (ValueError, LinAlgError):\n",
    "        return f\"Σ is not positive definite\"\n",
    "    \n",
    "    X = np.mgrid[-3:3:0.1, -3:3:0.1].reshape(2, -1).T\n",
    "    zz = mnorm.pdf(X).reshape(60, 60)\n",
    "    xx, yy = X.T.reshape(2, 60, 60)\n",
    "    plt.contourf(xx, yy, zz)\n",
    "    plt.xlabel(\"$X_1$\", fontsize=15)\n",
    "    plt.ylabel(\"$X_2$\", fontsize=15)\n",
    "    plt.xlim(-2, 2)"
   ]
  },
  {
   "cell_type": "markdown",
   "metadata": {},
   "source": [
    "### Estadísticos de una variable aleatoria\n",
    "\n",
    "Para capturar la información que una distribución nos puede proporcionar sobre una variable aleatoria es común distinguir una distribución de probabilidad por medio de sus propiedades. Dos propiedades comúnes son la esperanza y la varianza.\n",
    "\n",
    "**Esperanza de una variable aletoria**  \n",
    "*El centro de masa* de la variable aletoria\n",
    "\n",
    "Para $X$ continua\n",
    "$$\n",
    "    \\mathbb{E}[X] = \\int_{D_X} x f(x) dx\n",
    "$$\n",
    "\n",
    "Para $X$ discreta\n",
    "$$\n",
    "    \\mathbb{E}[X] = \\sum_{x \\in D_X} x P(X=x)\n",
    "$$\n",
    "\n",
    "**Varianza de una variable aleatoria**  \n",
    "Medida de disperción promedio de los valores valores de su media (esperanza)\n",
    "\n",
    "$$\n",
    "\\begin{align}\n",
    "    \\mathbb{V}[X] &= \\mathbb{E}[(X - \\mathbb{E}[X])^2] \\\\\n",
    "                  &= \\int_{D_x} \\left(x - \\mathbb{E}[X]\\right)^2 f(x) dx \\\\\n",
    "                  &= \\mathbb{E}[X^2] - \\mathbb{E}^2[X]\n",
    "\\end{align}\n",
    "$$\n",
    "\n",
    "**Desviación Estándar**  \n",
    "$$\n",
    "\\text{std}[X] = \\mathbb{V}^{1/2}[X]\n",
    "$$\n"
   ]
  },
  {
   "cell_type": "markdown",
   "metadata": {},
   "source": [
    "#### Ejemplos \n",
    "\n",
    "Si $X \\sim \\text{Bern}(p)$,\n",
    "\n",
    "$$\n",
    "    \\mathbb{E}[X] = p\\\\\n",
    "    \\mathbb{V}[X] = p(1-p)\n",
    "$$\n",
    "\n",
    "---\n",
    "\n",
    "Si $X \\sim N(\\mu, \\sigma^2)$,\n",
    "\n",
    "$$\n",
    "    \\mathbb{E}[X] = \\mu\\\\\n",
    "    \\mathbb{V}[X] = \\sigma^2\n",
    "$$"
   ]
  },
  {
   "cell_type": "markdown",
   "metadata": {},
   "source": [
    "**Referncias Adicionales**\n",
    "1. [Probability and Statistics Cookbook](http://statistics.zone/)\n",
    "2. Murphy, Kevin P. Machine Learning: a Probabilistic Perspective. MIT Press, 2012. Chapter 2"
   ]
  }
 ],
 "metadata": {
  "kernelspec": {
   "display_name": "Python 3",
   "language": "python",
   "name": "python3"
  },
  "language_info": {
   "codemirror_mode": {
    "name": "ipython",
    "version": 3
   },
   "file_extension": ".py",
   "mimetype": "text/x-python",
   "name": "python",
   "nbconvert_exporter": "python",
   "pygments_lexer": "ipython3",
   "version": "3.7.3"
  }
 },
 "nbformat": 4,
 "nbformat_minor": 2
}
