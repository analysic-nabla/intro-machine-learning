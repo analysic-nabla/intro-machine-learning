{
 "cells": [
  {
   "cell_type": "markdown",
   "metadata": {},
   "source": [
    "<img src=\"../files/misc/logo.gif\" width=300/>\n",
    "<h1 style=\"color:#872325\">Machine Learning Preliminaries</h1>"
   ]
  },
  {
   "cell_type": "code",
   "execution_count": 1,
   "metadata": {},
   "outputs": [],
   "source": [
    "import numpy as np\n",
    "import matplotlib.pyplot as plt"
   ]
  },
  {
   "cell_type": "code",
   "execution_count": 2,
   "metadata": {},
   "outputs": [],
   "source": [
    "%config InlineBackend.figure_format = \"retina\""
   ]
  },
  {
   "cell_type": "markdown",
   "metadata": {},
   "source": [
    "## Álgebra Lineal\n",
    "\n",
    "**¿Por qué álgebra lineal?**  \n",
    "Problemas en Machine Learning requiere el manejo de grandes bases de datos, la manipulación de la información dentro de las bases a fin de encontrar patrones por medio de modelos de ML depensen grandemente del álgebra lineal.\n",
    "\n",
    "Existen tres clases de elementos indispensables para poder trabajar en álgebra líneal. Estos son los escalares, vectores y matrices."
   ]
  },
  {
   "cell_type": "markdown",
   "metadata": {},
   "source": [
    "### Escalares\n",
    "Nos referimos a un escalar como un único número. Al trabajar con un escalar haremos referencia a la clase de elementos al cuál pertenece por medio de la notación\n",
    "\n",
    "$$\n",
    "    a \\in D\n",
    "$$\n",
    "\n",
    "Donde $a$ es el escalar y $D$ el conjunto al cuál pertenece"
   ]
  },
  {
   "cell_type": "markdown",
   "metadata": {},
   "source": [
    "En python, al declarar\n",
    "$$\n",
    " a \\in \\mathbb{R}\n",
    "$$\n",
    "\n",
    "Sería equivalente a tener una variable `a` de tipo `float`"
   ]
  },
  {
   "cell_type": "code",
   "execution_count": 3,
   "metadata": {},
   "outputs": [],
   "source": [
    "# Ejemplos de a ∈ R en Python\n",
    "a = 3.14\n",
    "a = 0.00\n",
    "a = 3e5"
   ]
  },
  {
   "cell_type": "markdown",
   "metadata": {},
   "source": [
    "### Vectores\n",
    "\n",
    "Un vector es un arreglo ordenado de elementos, todos de la misma clase de elementos. Denotaremos matemáticamente un vector $\\bf x$ en negrillas y la i-ésima entrada del vector por medio de $x_i$\n",
    "\n",
    "$$\n",
    "{\\bf x} = \\begin{bmatrix} \n",
    "x_1 \\\\\n",
    "x_2 \\\\\n",
    "\\vdots \\\\\n",
    "x_N\n",
    "\\end{bmatrix}\n",
    "$$\n",
    "\n",
    "Equivalente a un escalar, al declarar un vector denotaremos el conjunto al cual pertenece y los elementos dentro de este. Por ejemplo, si declaramoos el siguiente vector\n",
    "\n",
    "$$\n",
    "    {\\bf x} \\in \\mathbb{R}^5\n",
    "$$\n",
    "\n",
    "Estaríamos diciendo que $\\bf x$ tiene 5 elementos, cada uno de ellos números reales. En Python, esta representación estaría dada por un numpy array de 5 elementos, cada uno de ellos números flotantes"
   ]
  },
  {
   "cell_type": "code",
   "execution_count": 4,
   "metadata": {},
   "outputs": [
    {
     "data": {
      "text/plain": [
       "array([ 3.4,  1.4,  0.5, 10.4,  0. ])"
      ]
     },
     "execution_count": 4,
     "metadata": {},
     "output_type": "execute_result"
    }
   ],
   "source": [
    "x = np.array([3.4, 1.4, 0.5, 10.4, 0.0])\n",
    "x"
   ]
  },
  {
   "cell_type": "markdown",
   "metadata": {},
   "source": [
    "Geométricamente, podemos pensar un vector como una flecha que apunta desde el origen hasta una coordenada dada en un espacio $n$-dimensional"
   ]
  },
  {
   "cell_type": "code",
   "execution_count": 5,
   "metadata": {},
   "outputs": [
    {
     "data": {
      "image/png": "[encoded data removed]",
      "text/plain": [
       "<Figure size 432x288 with 1 Axes>"
      ]
     },
     "metadata": {
      "image/png": {
       "height": 268,
       "width": 380
      },
      "needs_background": "light"
     },
     "output_type": "display_data"
    }
   ],
   "source": [
    "x = np.array([1, 2])\n",
    "y = np.array([2.5, 0.5])\n",
    "\n",
    "plt.arrow(0, 0, *x, width=0.05, length_includes_head=True,\n",
    "          color=\"tab:blue\", )\n",
    "plt.arrow(0, 0, *y, width=0.05, length_includes_head=True,\n",
    "          color=\"tab:red\")\n",
    "plt.xlim(0, 3)\n",
    "plt.ylim(0, 3)\n",
    "plt.title(r\"Dos vectores en $\\mathbb{R}^2$\", fontsize=17)\n",
    "plt.grid()"
   ]
  },
  {
   "cell_type": "markdown",
   "metadata": {},
   "source": [
    "* En una base de datos, un vector estaría dado por una columna dentro de la base (una columna dentro de un Pandas DataFrame)\n",
    "* Una serie de tiempo sobre el precio de una acción estaría dada por un vector"
   ]
  },
  {
   "cell_type": "markdown",
   "metadata": {},
   "source": [
    "### Matrices\n",
    "\n",
    "Una matriz $\\bf X$ es un arreglo bi-dimensional de números (equivalente a un numpy array con `ndim == 2`). Denotaremos la $(i, j)$-ésima entrada de una matriz $\\bf X$ por medio de $X_{i,j}$.\n",
    "\n",
    "$$\n",
    "{\\bf X} = \\begin{bmatrix}\n",
    "x_{1,1} & x_{1,2} & \\ldots & x_{1,M} \\\\\n",
    "x_{1,1} & x_{1,2} & \\ldots & x_{2,M} \\\\\n",
    "\\vdots & \\vdots & \\vdots & \\vdots \\\\\n",
    "x_{N,1} & x_{N,2} & \\ldots & x_{N,M}\n",
    "\\end{bmatrix}\n",
    "$$\n",
    "\n",
    "A fin de hacer la notación más compacta, declararemos una matriz $\\bf A$ con $N$ filas y $M$ columnas como\n",
    "\n",
    "$$\n",
    "    {\\bf A} \\in \\mathbb{R}^{N\\times M}\n",
    "$$"
   ]
  },
  {
   "cell_type": "code",
   "execution_count": 6,
   "metadata": {},
   "outputs": [],
   "source": [
    "X = np.array([\n",
    "    [1.4, 0.5, 0.5],\n",
    "    [3.1, 1.9, 9.4],\n",
    "    [0.9, 1.1, 1.3]\n",
    "])\n"
   ]
  },
  {
   "cell_type": "code",
   "execution_count": 7,
   "metadata": {},
   "outputs": [
    {
     "data": {
      "text/plain": [
       "0.5"
      ]
     },
     "execution_count": 7,
     "metadata": {},
     "output_type": "execute_result"
    }
   ],
   "source": [
    "# Accedemos a la posición i,j de X\n",
    "i, j = 0, 2\n",
    "X[i, j]"
   ]
  },
  {
   "cell_type": "markdown",
   "metadata": {},
   "source": [
    "#### Notas:\n",
    "\n",
    "1. Una matriz ${\\bf A} \\in \\mathbb{R}^{n\\times n}$ es conocida como una matriz cuadrada\n",
    "2. Denotamos la matriz identidad $\\bf I\\in \\mathbb{R}^{n\\times n}$ como una matriz cuadrada tal que $I_{i,j} = \\mathbb{1}_{i=j}$\n",
    "3. Matemáticamente, expresamos un vector como un vector columna, es decir, ${\\bf a} \\in \\mathbb{R}^{n\\times 1}$."
   ]
  },
  {
   "cell_type": "markdown",
   "metadata": {},
   "source": [
    "### Propiedades de las martrices"
   ]
  },
  {
   "cell_type": "markdown",
   "metadata": {},
   "source": [
    "#### Transpuesta\n",
    "\n",
    "Denotamos la transpuesta de una matriz $\\bf X$ como ${\\bf X}^T$ y esta la definimos como\n",
    "$$\n",
    "    ({\\bf X}^T)_{i,j} = {\\bf X}_{j,i}\n",
    "$$"
   ]
  },
  {
   "cell_type": "code",
   "execution_count": 8,
   "metadata": {},
   "outputs": [
    {
     "data": {
      "text/plain": [
       "array([[1.4, 0.5, 0.5],\n",
       "       [3.1, 1.9, 9.4],\n",
       "       [0.9, 1.1, 1.3]])"
      ]
     },
     "execution_count": 8,
     "metadata": {},
     "output_type": "execute_result"
    }
   ],
   "source": [
    "X"
   ]
  },
  {
   "cell_type": "code",
   "execution_count": 9,
   "metadata": {},
   "outputs": [
    {
     "data": {
      "text/plain": [
       "array([[1.4, 3.1, 0.9],\n",
       "       [0.5, 1.9, 1.1],\n",
       "       [0.5, 9.4, 1.3]])"
      ]
     },
     "execution_count": 9,
     "metadata": {},
     "output_type": "execute_result"
    }
   ],
   "source": [
    "# En numpy accedemos a la transpuesta de una matriz por medio\n",
    "# del operador .T\n",
    "X.T"
   ]
  },
  {
   "cell_type": "code",
   "execution_count": 10,
   "metadata": {},
   "outputs": [
    {
     "data": {
      "text/plain": [
       "True"
      ]
     },
     "execution_count": 10,
     "metadata": {},
     "output_type": "execute_result"
    }
   ],
   "source": [
    "X.T[i,j] == X[j,i]"
   ]
  },
  {
   "cell_type": "markdown",
   "metadata": {},
   "source": [
    "#### Producto entrada a entrada (Hadamard)\n",
    "\n",
    "Denotaremos el producto entrada a entrada entre dos matrices ${\\bf A} \\in \\mathbb{R}^{N\\times M}$, ${\\bf B} \\in \\mathbb{R}^{N\\times M}$ como\n",
    "$$\n",
    "    {\\bf A} \\odot {\\bf B}\n",
    "$$\n",
    "\n",
    "Tal que $({\\bf A} \\odot {\\bf B})_{i,j} = A_{i,j} B_{i, j}$"
   ]
  },
  {
   "cell_type": "code",
   "execution_count": 11,
   "metadata": {},
   "outputs": [],
   "source": [
    "A = np.array([\n",
    "    [1, 3],\n",
    "    [4, 1]\n",
    "])\n",
    "\n",
    "B = np.array([\n",
    "    [0, 1],\n",
    "    [1, 2]\n",
    "])"
   ]
  },
  {
   "cell_type": "code",
   "execution_count": 12,
   "metadata": {},
   "outputs": [
    {
     "data": {
      "text/plain": [
       "array([[0, 3],\n",
       "       [4, 2]])"
      ]
     },
     "execution_count": 12,
     "metadata": {},
     "output_type": "execute_result"
    }
   ],
   "source": [
    "# En numpy, denotamos el producto entrada a entrada entre dos matrices\n",
    "# A, B por medio de * \n",
    "A * B"
   ]
  },
  {
   "cell_type": "markdown",
   "metadata": {},
   "source": [
    "#### Multiplicación de matrices y vectores\n",
    "\n",
    "Definimos el producto punto entre dos vectores $a, b \\in \\mathbb{R}^n$ como \n",
    "\n",
    "$$\n",
    "    {\\bf a}^T {\\bf b} = \\sum_{i=1}^n a_i b_i\n",
    "$$"
   ]
  },
  {
   "cell_type": "code",
   "execution_count": 13,
   "metadata": {},
   "outputs": [
    {
     "data": {
      "text/plain": [
       "14.1"
      ]
     },
     "execution_count": 13,
     "metadata": {},
     "output_type": "execute_result"
    }
   ],
   "source": [
    "# Podemos calcular el producto punto entre dos numpy arrays\n",
    "# a, b por medio de @\n",
    "a = np.array([1, 4, 0.5, 4])\n",
    "b = np.array([2, 0.9, 1, 2])\n",
    "\n",
    "a.T @ b # == (a * b).sum()"
   ]
  },
  {
   "cell_type": "markdown",
   "metadata": {},
   "source": [
    "Sean ${\\bf A} \\in \\mathbb{R}^{n\\times m}$, ${\\bf B} \\in \\mathbb{R}^{m\\times o}$, definimos la multiplicación entre $\\bf A$ y $\\bf B$ como una matriz $\\bf C$ tal que\n",
    "\n",
    "$$\n",
    "    C_{i,j} = \\sum_{k}A_{i,k}B_{k,j}\n",
    "$$\n",
    "\n",
    "**nota**: La definición de multiplicación de matrices está definida siempre y cuando $\\bf A$ tenga el mismo número de columnas como filas tenga $\\bf B$"
   ]
  },
  {
   "cell_type": "code",
   "execution_count": 14,
   "metadata": {},
   "outputs": [],
   "source": [
    "A = np.array([\n",
    "    [1, 3, 4],\n",
    "    [4, 5, 1],\n",
    "    [4, 1, 3],\n",
    "    [0, 0, 1],\n",
    "    \n",
    "])\n",
    "\n",
    "B = np.array([\n",
    "    [2.0, 1.0, 0.7],\n",
    "    [0.5, 0.5, 0.4],\n",
    "    [0.4, 1.1, 3.5],\n",
    "    [1.4, 5.6, 1.9],\n",
    "    \n",
    "]).T"
   ]
  },
  {
   "cell_type": "code",
   "execution_count": 15,
   "metadata": {},
   "outputs": [
    {
     "data": {
      "text/plain": [
       "array([[ 7.8,  3.6, 17.7, 25.8],\n",
       "       [13.7,  4.9, 10.6, 35.5],\n",
       "       [11.1,  3.7, 13.2, 16.9],\n",
       "       [ 0.7,  0.4,  3.5,  1.9]])"
      ]
     },
     "execution_count": 15,
     "metadata": {},
     "output_type": "execute_result"
    }
   ],
   "source": [
    "# En numpy, dadas dos matrices A y B, calculamos la multiplicación\n",
    "# matricial entre A y B por medio de @\n",
    "C = A @ B\n",
    "C"
   ]
  },
  {
   "cell_type": "code",
   "execution_count": 16,
   "metadata": {},
   "outputs": [
    {
     "data": {
      "text/plain": [
       "3.6"
      ]
     },
     "execution_count": 16,
     "metadata": {},
     "output_type": "execute_result"
    }
   ],
   "source": [
    "i, j = 0, 1\n",
    "C[i, j] # == (A[i, :] * B[:, j]).sum()"
   ]
  },
  {
   "cell_type": "markdown",
   "metadata": {},
   "source": [
    "#### Matrices Inversas\n",
    "\n",
    "Denotamos la inversa de una matriz ${\\bf A} \\in \\mathbb{R}^{n\\times n}$ como ${\\bf A}^{-1}$ y es definida de tal manera que\n",
    "\n",
    "$$\n",
    "    {\\bf A}^{-1}{\\bf A} = {\\bf I}\n",
    "$$"
   ]
  },
  {
   "cell_type": "code",
   "execution_count": 20,
   "metadata": {},
   "outputs": [
    {
     "data": {
      "text/plain": [
       "array([[1, 0],\n",
       "       [0, 1]])"
      ]
     },
     "execution_count": 20,
     "metadata": {},
     "output_type": "execute_result"
    }
   ],
   "source": [
    "A = np.array([\n",
    "    [4, 3],\n",
    "    [3, 2],\n",
    "])\n",
    "\n",
    "Ai = np.array([\n",
    "    [-2,  3],\n",
    "    [ 3, -4]\n",
    "])\n",
    "\n",
    "A @ Ai"
   ]
  },
  {
   "cell_type": "markdown",
   "metadata": {},
   "source": [
    "En numpy podemos calcular la inversa de una matriz por medio de la función `inv` dentro de `numpy.linalg`"
   ]
  },
  {
   "cell_type": "code",
   "execution_count": 21,
   "metadata": {},
   "outputs": [
    {
     "data": {
      "text/plain": [
       "array([[-2.,  3.],\n",
       "       [ 3., -4.]])"
      ]
     },
     "execution_count": 21,
     "metadata": {},
     "output_type": "execute_result"
    }
   ],
   "source": [
    "from numpy.linalg import inv\n",
    "inv(A)"
   ]
  },
  {
   "cell_type": "markdown",
   "metadata": {},
   "source": [
    "#### Sistemas de ecuaciones\n",
    "\n",
    "Una de las aplicaciones de una matriz inversa es la resolución de un sistema lineal de ecuaciones: Sea ${\\bf A} \\in \\mathbb{R}^{n\\times n}$, ${\\bf x} \\in \\mathbb{R}^{n}$ y ${\\bf b} \\in \\mathbb{R}^{n}$ donde ${\\bf A}$ y ${\\bf b}$ son una matriz y un vector conocido respectivamente. Queremos encontrar ${\\bf x}$ tal que satisfaga\n",
    "\n",
    "$$\n",
    "\\begin{align}\n",
    "    &{\\bf A}{\\bf x} = {\\bf b} \\\\\n",
    "    \\implies &  {\\bf A}^{-1}{\\bf A}{\\bf x} = {\\bf A}^{-1}{\\bf b} \\\\\n",
    "    \\implies &  {\\bf x} = {\\bf A}^{-1}{\\bf b} \\\\\n",
    "\\end{align}\n",
    "$$"
   ]
  },
  {
   "cell_type": "code",
   "execution_count": null,
   "metadata": {},
   "outputs": [],
   "source": [
    "A = np.array([\n",
    "    [1, 4],\n",
    "    [3, 4]\n",
    "])\n",
    "\n",
    "b = np.array([1, -1]).reshape(-1, 1)"
   ]
  },
  {
   "cell_type": "code",
   "execution_count": 22,
   "metadata": {},
   "outputs": [
    {
     "data": {
      "text/plain": [
       "array([[-1. ],\n",
       "       [ 0.5]])"
      ]
     },
     "execution_count": 22,
     "metadata": {},
     "output_type": "execute_result"
    }
   ],
   "source": [
    "# Forma explicita de resolver el sistema\n",
    "inv(A) @ b"
   ]
  },
  {
   "cell_type": "code",
   "execution_count": 23,
   "metadata": {},
   "outputs": [
    {
     "data": {
      "text/plain": [
       "array([[-1. ],\n",
       "       [ 0.5]])"
      ]
     },
     "execution_count": 23,
     "metadata": {},
     "output_type": "execute_result"
    }
   ],
   "source": [
    "from numpy.linalg import solve\n",
    "# La función solve dentro de numpy.linalg contiene un\n",
    "# algoritmo más eficiente y preciso para resolver un sistema\n",
    "# de ecuaciones\n",
    "solve(A, b)"
   ]
  },
  {
   "cell_type": "markdown",
   "metadata": {},
   "source": [
    "### Propiedades Adicionales de Matrices\n",
    "\n",
    "$$\n",
    "    {\\bf A}({\\bf B} + {\\bf C}) = {\\bf A}{\\bf B} + {\\bf A}{\\bf C}\n",
    "$$\n",
    "\n",
    "$$\n",
    "    ({\\bf A}{\\bf B}){\\bf C} =  {\\bf A}({\\bf B}{\\bf C})\n",
    "$$\n",
    "\n",
    "$$\n",
    "    ({\\bf A}{\\bf B})^T = {\\bf B}^T{\\bf A}^T\n",
    "$$\n",
    "\n",
    "$$\n",
    "    ({\\bf A}{\\bf B})^{-1} = {\\bf B}^{-1}{\\bf A}^{-1}\n",
    "$$"
   ]
  },
  {
   "cell_type": "markdown",
   "metadata": {},
   "source": [
    "**Referncias Adicionales**\n",
    "\n",
    "* [The Matrix Cookbook](https://www.math.uwaterloo.ca/~hwolkowi/matrixcookbook.pdf)\n",
    "* [Portfolio Theory with Matrix Algebra](https://faculty.washington.edu/ezivot/econ424/portfolioTheoryMatrix.pdf)\n",
    "* [Deep Learning Chapter 2: Lineal Algebra](https://www.deeplearningbook.org/contents/linear_algebra.html)"
   ]
  },
  {
   "cell_type": "markdown",
   "metadata": {},
   "source": [
    "## Estadística y Probabilidad"
   ]
  },
  {
   "cell_type": "markdown",
   "metadata": {},
   "source": [
    "La finalidad de modelos de machine learning es extraer patrones desde datos. Para encontrar patrones uno tiene que lidiar con la incertidumbre.\n",
    "\n",
    "La teoria de la probabilidad nos provee de herramientas para trabajar y manipular la incertidumbre; su estudio es escencial para modelos de machine learning."
   ]
  },
  {
   "cell_type": "markdown",
   "metadata": {},
   "source": [
    "#### Variables Aleatorias Discretas\n",
    "\n",
    "Para lograr poder medir la incertidumbre de un evento consideraremos una variable aletoria la cuál\n",
    "\n",
    "Si $X$ toma un número contable (finito o infinito) de elementos, decimos que $X$ es una variable aleatoria discreta.\n",
    "\n",
    "> Al escribir $X$ no hacemos referencia a ningún valor en especifico, $X$ representa todos los posibles valores que este podría tomar\n",
    "\n",
    "A una variable aleatoria $X$ se le asocia una función de probabilidad la cuál denotamos por $p$. Entonces, denotamos por $p(X = x)$ la probabilida de que $X$ tome un valor $x$.\n",
    "\n",
    "Para una función de probabillidad definida sobre una variable aleatoria discreta $X$ requerimos \n",
    "* $ \\forall x\\in X. p(X = x) \\in [0, 1]$\n",
    "* $\\sum_{x\\in X} p(X = x) = 1$\n",
    "\n",
    "La función $p$ puede ser usada para calcular la probabilidad de 1 o más elementos. Denotamos por $p(X=x_1, X=x_2)$ como la probabilidad que "
   ]
  },
  {
   "cell_type": "markdown",
   "metadata": {},
   "source": [
    "Sean $A$ y $B$ dos eventos entonces,\n",
    "\n",
    "* $p(A \\cup B) = p(A) + p(B) - p(A \\cap B)$\n",
    "* $p(A, B) = p(A) p(B|A)$"
   ]
  },
  {
   "cell_type": "markdown",
   "metadata": {},
   "source": [
    "Si $X$ toma un número no contable de elementos, decimos que $X$ es una variable aleatoria continua.\n",
    "\n",
    "---\n",
    "\n",
    "Un poco más formalmente, aunque informal de todos modos, definimos una variable aleatoria como una función de un espacio $\\Omega$ a los números reales, i.e., $X: \\Omega \\to \\mathbb{R}$"
   ]
  },
  {
   "cell_type": "code",
   "execution_count": 24,
   "metadata": {},
   "outputs": [],
   "source": [
    "from numpy.random import normal"
   ]
  },
  {
   "cell_type": "code",
   "execution_count": null,
   "metadata": {},
   "outputs": [],
   "source": [
    "X = normal # Una variable aleatoria"
   ]
  },
  {
   "cell_type": "code",
   "execution_count": 30,
   "metadata": {},
   "outputs": [
    {
     "data": {
      "text/plain": [
       "0.05672969483807066"
      ]
     },
     "execution_count": 30,
     "metadata": {},
     "output_type": "execute_result"
    }
   ],
   "source": [
    "# X nos arroja un elemento una vez valuado. Cada evaluación podría\n",
    "# ser diferente de una anterior\n",
    "X()"
   ]
  },
  {
   "cell_type": "code",
   "execution_count": null,
   "metadata": {},
   "outputs": [],
   "source": []
  },
  {
   "cell_type": "markdown",
   "metadata": {},
   "source": [
    "**Variables Aleatorias**  \n",
    "Una \n",
    "\n",
    "**Función de distribución**  \n"
   ]
  }
 ],
 "metadata": {
  "kernelspec": {
   "display_name": "Python 3",
   "language": "python",
   "name": "python3"
  },
  "language_info": {
   "codemirror_mode": {
    "name": "ipython",
    "version": 3
   },
   "file_extension": ".py",
   "mimetype": "text/x-python",
   "name": "python",
   "nbconvert_exporter": "python",
   "pygments_lexer": "ipython3",
   "version": "3.7.3"
  }
 },
 "nbformat": 4,
 "nbformat_minor": 2
}
